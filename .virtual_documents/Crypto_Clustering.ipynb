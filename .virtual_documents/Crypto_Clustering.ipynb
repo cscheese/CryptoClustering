# Import required libraries and dependencies
import pandas as pd
from sklearn.cluster import KMeans
from sklearn.decomposition import PCA
from sklearn.preprocessing import StandardScaler


# Load the data into a Pandas DataFrame and make the index the "coin_id" column.
market_data_df = pd.read_csv("Resources/crypto_market_data.csv", index_col="coin_id")

# Display sample data
market_data_df.head(10)


# Generate summary statistics
market_data_df.describe()


# Extra. I worked with a tutor on this and used this to better understand the data. 
df_columns=market_data_df.columns


# Extra. I worked with a tutor on this. Used this code to better understand the data 
market_data_df.index








# Use the `StandardScaler()` module from scikit-learn to normalize the data from the CSV file
scaler = StandardScaler()
normalized_data = scaler.fit_transform(market_data_df)

normalized_data


# I worked with the tutor on this code. She helped me better understand the significance of each 
# part of the code and what it means. 
# Create a DataFrame with the scaled data
normalized_df = pd.DataFrame(normalized_data, columns=df_columns)

# Copy the crypto names from the original data
normalized_df['coin_id']=market_data_df.index

# Set the coin_id column as index
normalized_df.set_index('coin_id', inplace=True) 

# Display sample data
normalized_df.head()





# Create a list with the number of k-values to try
# Create a a list to store inertia values
inertia = []

# Create a a list to store the values of k
k = list(range(1, 11))


# Create a for loop to compute the inertia with each possible value of k
# Inside the loop:
# 1. Create a KMeans model using the loop counter for the n_clusters
# 2. Fit the model to the data using the scaled DataFrame
# 3. Append the model.inertia_ to the inertia list
for i in k:
    k_model = KMeans(n_clusters=i, n_init='auto', random_state=1)
    k_model.fit(normalized_df)
    inertia.append(k_model.inertia_)

# Create a Dictionary that holds the list values for k and inertia
elbow_data = {"k": k, "inertia": inertia}

# Create a DataFrame using the elbow_data Dictionary
df_elbow = pd.DataFrame(elbow_data)

# Review the DataFrame
df_elbow



# Plot a line chart with all the inertia values computed with 
# the different values of k to visually identify the optimal value for k.
df_elbow.plot.line(
    x="k", 
    y= "inertia", 
    title="Elbow Curve", 
    xticks=k
)








# Initialize the K-Means model using the best value for k
model = KMeans(n_clusters=4, n_init='auto', random_state=1)



# Fit the K-Means model using the scaled data
model.fit(normalized_df)


# Predict the clusters to group the cryptocurrencies using the scaled data
predictions = model.predict(normalized_df)

# View the resulting array of cluster values.
predictions


# Create a copy of the DataFrame
normalized_df_predictions = normalized_df.copy()


# Add a new column to the DataFrame with the predicted clusters
normalized_df_predictions["crypto_cluster"]= predictions

# Display sample data
normalized_df_predictions.head(10)


# Create a scatter plot using Pandas plot by setting 
# `x="price_change_percentage_24h"` and `y="price_change_percentage_7d"`.
# Use "rainbow" for the color to better visualize the data.
normalized_df_predictions.plot.scatter(
    x="price_change_percentage_24h",
    y="price_change_percentage_7d",
    c="crypto_cluster",
    colormap="rainbow")





# Create a PCA model instance and set `n_components=3`.



# Use the PCA model with `fit_transform` on the original scaled DataFrame to reduce to three principal components.


# View the first five rows of the DataFrame. 



# Retrieve the explained variance to determine how much information  can be attributed to each principal component.






# Create a new DataFrame with the PCA data.
# Note: The code for this step is provided for you

# Creating a DataFrame with the PCA data


# Copy the crypto names from the original data


# Set the coinid column as index


# Display sample data






# Create a list with the number of k-values to try
# Use a range from 1 to 11


# Create an empty list to store the inertia values


# Create a for loop to compute the inertia with each possible value of k
# Inside the loop:
# 1. Create a KMeans model using the loop counter for the n_clusters
# 2. Fit the model to the data using PCA DataFrame.
# 3. Append the model.inertia_ to the inertia list


# Create a dictionary with the data to plot the Elbow curve


# Create a DataFrame with the data to plot the Elbow curve


# Display the DataFrame



# Plot a line chart with all the inertia values computed with 
# the different values of k to visually identify the optimal value for k.









# Initialize the K-Means model using the best value for k



# Fit the K-Means model using the PCA data



# Predict the clusters to group the cryptocurrencies using the PCA data


# Print the resulting array of cluster values.



# Create a copy of the DataFrame with the PCA data


# Add a new column to the DataFrame with the predicted clusters


# Display sample data



# Create a scatter plot using hvPlot by setting `x="PCA1"` and `y="PCA2"`. 






# Use the columns from the original scaled DataFrame as the index.







